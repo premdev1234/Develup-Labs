{
  "nbformat": 4,
  "nbformat_minor": 0,
  "metadata": {
    "colab": {
      "provenance": [],
      "authorship_tag": "ABX9TyNLHYIvrhOOfNbPdIlAUOzY",
      "include_colab_link": true
    },
    "kernelspec": {
      "name": "python3",
      "display_name": "Python 3"
    },
    "language_info": {
      "name": "python"
    }
  },
  "cells": [
    {
      "cell_type": "markdown",
      "metadata": {
        "id": "view-in-github",
        "colab_type": "text"
      },
      "source": [
        "<a href=\"https://colab.research.google.com/github/premdev1234/Develup-Labs.github.io/blob/main/Assignment3.ipynb\" target=\"_parent\"><img src=\"https://colab.research.google.com/assets/colab-badge.svg\" alt=\"Open In Colab\"/></a>"
      ]
    },
    {
      "cell_type": "code",
      "execution_count": null,
      "metadata": {
        "id": "q0SewEaJzibV"
      },
      "outputs": [],
      "source": [
        "import numpy as np\n",
        "import pandas as pd\n",
        "import seaborn as sns\n",
        "from sklearn.neighbors import KNeighborsClassifier\n"
      ]
    },
    {
      "cell_type": "code",
      "source": [
        "from time import time\n",
        "import matplotlib.pyplot as plt\n",
        "from scipy.stats import loguniform\n",
        "from sklearn.decomposition import PCA\n",
        "from sklearn.discriminant_analysis import LinearDiscriminantAnalysis\n",
        "from sklearn.metrics import ConfusionMatrixDisplay, classification_report as clr\n",
        "from sklearn.model_selection import RandomizedSearchCV as rscv , train_test_split as tts\n",
        "from sklearn.preprocessing import StandardScaler\n",
        "from sklearn.svm import SVC"
      ],
      "metadata": {
        "id": "kBSYHBYVzxxb"
      },
      "execution_count": null,
      "outputs": []
    },
    {
      "cell_type": "code",
      "source": [
        "# import dataset\n",
        "from sklearn.datasets import fetch_lfw_people"
      ],
      "metadata": {
        "id": "TeaKxEXO0Bvk"
      },
      "execution_count": null,
      "outputs": []
    },
    {
      "cell_type": "code",
      "source": [
        "# Load datset\n",
        "dataset = fetch_lfw_people(min_faces_per_person=70, resize=0.4)\n",
        "X = dataset.data\n",
        "y = dataset.target"
      ],
      "metadata": {
        "id": "NfvrvlZB1Ax8"
      },
      "execution_count": null,
      "outputs": []
    },
    {
      "cell_type": "code",
      "source": [
        "X_train, X_test, y_train, y_test = tts(X, y, test_size=0.2, random_state=56)"
      ],
      "metadata": {
        "id": "PAWXymvq0gMT"
      },
      "execution_count": null,
      "outputs": []
    },
    {
      "cell_type": "code",
      "source": [
        "pca = PCA()\n",
        "pca.fit(X_train)\n",
        "\n",
        "# Plot explained variance\n",
        "plt.plot(np.cumsum(pca.explained_variance_ratio_))\n",
        "plt.xlabel('Number of Components')\n",
        "plt.ylabel('Cumulative Explained Variance')\n",
        "plt.show()"
      ],
      "metadata": {
        "id": "GDyXrmwvCI9Z"
      },
      "execution_count": null,
      "outputs": []
    },
    {
      "cell_type": "markdown",
      "source": [
        "from here we can say that taking n_component = 200 will be a fine solution"
      ],
      "metadata": {
        "id": "Fdgpx6ELCa-c"
      }
    },
    {
      "cell_type": "code",
      "source": [
        "n_components = 200\n",
        "pca = PCA(n_components=n_components, whiten=True).fit(X_train)\n",
        "X_train_pca = pca.transform(X_train)\n",
        "X_test_pca = pca.transform(X_test)"
      ],
      "metadata": {
        "id": "kALLR3GNCpto"
      },
      "execution_count": null,
      "outputs": []
    },
    {
      "cell_type": "code",
      "source": [
        "lda = LinearDiscriminantAnalysis()\n",
        "lda.fit(X, y)\n",
        "\n",
        "explained_variance_ratio = lda.explained_variance_ratio_\n",
        "cumulative_variance_ratio = np.cumsum(explained_variance_ratio)\n",
        "print(cumulative_variance_ratio)\n",
        "plt.plot(np.cumsum(lda.explained_variance_ratio_))\n",
        "plt.xlabel('Number of Components')\n",
        "plt.ylabel('Cumulative Explained Variance')\n",
        "plt.show()"
      ],
      "metadata": {
        "id": "dhnqaOaaDeYB"
      },
      "execution_count": null,
      "outputs": []
    },
    {
      "cell_type": "code",
      "source": [
        "n_components = 5\n",
        "lda = LinearDiscriminantAnalysis(n_components = n_components)\n",
        "lda.fit(X, y)\n",
        "X_train_lda = lda.transform(X_train)\n",
        "X_test_lda = lda.transform(X_test)"
      ],
      "metadata": {
        "id": "vsbiQiZkGVpV"
      },
      "execution_count": null,
      "outputs": []
    },
    {
      "cell_type": "code",
      "source": [
        "knn_eigenfaces = KNeighborsClassifier(n_neighbors=5)\n",
        "knn_eigenfaces.fit(X_train_pca, y_train)\n",
        "y_pred_eigenfaces = knn_eigenfaces.predict(X_test_pca)"
      ],
      "metadata": {
        "id": "GQArvk9LmXI0"
      },
      "execution_count": null,
      "outputs": []
    },
    {
      "cell_type": "code",
      "source": [
        "knn_fisherfaces = KNeighborsClassifier(n_neighbors=5)\n",
        "knn_fisherfaces.fit(X_train_lda, y_train)\n",
        "y_pred_fisherfaces = knn_fisherfaces.predict(X_test_lda)"
      ],
      "metadata": {
        "id": "iTvwjXPxmoUF"
      },
      "execution_count": null,
      "outputs": []
    },
    {
      "cell_type": "code",
      "source": [
        "eigen_pred = knn_eigenfaces.predict(X_test_pca)"
      ],
      "metadata": {
        "id": "IKKaJJ-GnwWc"
      },
      "execution_count": null,
      "outputs": []
    },
    {
      "cell_type": "code",
      "source": [
        "print(clr(y_test,eigen_pred))"
      ],
      "metadata": {
        "id": "cws9dI0toPJo"
      },
      "execution_count": null,
      "outputs": []
    },
    {
      "cell_type": "code",
      "source": [
        "fisher_pred = knn_fisherfaces.predict(X_test_lda)\n",
        "print(clr(y_test,fisher_pred))"
      ],
      "metadata": {
        "id": "nvznIiNposOO"
      },
      "execution_count": null,
      "outputs": []
    },
    {
      "cell_type": "code",
      "source": [
        "print(pca.components_.shape)\n",
        "print(lda.scalings_.shape)"
      ],
      "metadata": {
        "id": "XK0uzoJmpzfw"
      },
      "execution_count": null,
      "outputs": []
    },
    {
      "cell_type": "code",
      "source": [
        "n_samples, h, w = dataset.images.shape"
      ],
      "metadata": {
        "id": "Z0796U_-rTkl"
      },
      "execution_count": null,
      "outputs": []
    },
    {
      "cell_type": "code",
      "source": [
        "n_eigenfaces_to_visualize = 100\n",
        "\n",
        "eigenfaces = pca.components_.reshape((n_components, h, w))\n",
        "\n",
        "n_fisherfaces_to_visualize = 10\n",
        "\n",
        "fisherfaces = lda.scalings_.reshape((n_lda_components, h, w))"
      ],
      "metadata": {
        "id": "zs3jGm4_rVYS"
      },
      "execution_count": null,
      "outputs": []
    }
  ]
}